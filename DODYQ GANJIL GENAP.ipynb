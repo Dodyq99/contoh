{
  "nbformat": 4,
  "nbformat_minor": 0,
  "metadata": {
    "colab": {
      "name": "Untitled5.ipynb",
      "provenance": []
    },
    "kernelspec": {
      "name": "python3",
      "display_name": "Python 3"
    },
    "language_info": {
      "name": "python"
    }
  },
  "cells": [
    {
      "cell_type": "code",
      "execution_count": null,
      "metadata": {
        "id": "08u9Yr95NDyS"
      },
      "outputs": [],
      "source": [
        "x = int(input('Masukkan x: '))\n",
        "print('x adalah bilangan', 'genap' if (x % 2 == 0) else 'ganjil')"
      ]
    }
  ]
}