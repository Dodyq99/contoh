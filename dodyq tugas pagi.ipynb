{
  "cells": [
    {
      "cell_type": "code",
      "execution_count": null,
      "metadata": {
        "colab": {
          "background_save": true,
          "base_uri": "https://localhost:8080/"
        },
        "id": "UR2rUMMmEZI_",
        "outputId": "fd8c0de8-faa9-456a-e47a-55218133e099"
      },
      "outputs": [
        {
          "name": "stdout",
          "output_type": "stream",
          "text": [
            "\n",
            "    ==============================\n",
            "    \n",
            "    Ananda Coffe\n",
            "    List Menu Minuman Kopi \n",
            " \n",
            "    ==============================\n",
            "    A. ES Kopi Susu : Rp 11.000\n",
            "    B. ES Kopi Coklat : Rp 12.000\n",
            "    C. ES Kopi Hitam : Rp 11.000\n",
            "    D. Ice Americano : Rp 14.000\n",
            "    ==============================\n",
            "    \n",
            "--------------------------\n",
            "Ananda Coffe\n",
            "--------------------------\n",
            "Menu : ES Kopi Susu\n",
            "Jumlah Pesan : 2\n",
            "Harga : 22000\n",
            "Diskon : 0\n",
            "PPN : 2200\n",
            "--------------------------\n",
            "Jumlah Bayar : 24200\n",
            "--------------------------\n"
          ]
        }
      ],
      "source": [
        "pilihan=\"y\"\n",
        "while pilihan==\"y\":\n",
        "    print(\"\"\"\n",
        "    ==============================\n",
        "    \n",
        "    Ananda Coffe\n",
        "    List Menu Minuman Kopi \n",
        " \n",
        "    ==============================\n",
        "    A. ES Kopi Susu : Rp 11.000\n",
        "    B. ES Kopi Coklat : Rp 12.000\n",
        "    C. ES Kopi Hitam : Rp 11.000\n",
        "    D. Ice Americano : Rp 14.000\n",
        "    ==============================\n",
        "    \"\"\")\n",
        "    pesan=str(input(\"masukkan list abjad menu kopi =\"))\n",
        "    jumlahpesan=int(input(\"masukkan jumlah pesanan =\"))\n",
        "    if pesan == \"a\":\n",
        "        listnama= \"ES Kopi Susu\"\n",
        "        harga=(11000*jumlahpesan)\n",
        "        ppn= int(harga * 0.1)\n",
        "        if jumlahpesan >= 5:\n",
        "            diskon = int(harga*0.2)\n",
        "            totalharga=int(harga-diskon+ppn)\n",
        "        else:\n",
        "            diskon =(0)\n",
        "            totalharga=int(harga+ppn)\n",
        "    elif pesan == \"b\":\n",
        "        listnama= \"ES Kopi Coklat\"\n",
        "        harga = (12000*jumlahpesan)\n",
        "        ppn = int(harga * 0.1)\n",
        "        if jumlahpesan >= 5:\n",
        "            diskon = int(harga * 0.2)\n",
        "            totalharga =int(harga-diskon+ppn)\n",
        "        else:\n",
        "            diskon =(0)\n",
        "            totalharga =int(harga+ppn)\n",
        "    elif pesan == \"c\":\n",
        "        listnama= \"ES Kopi Hitam\"\n",
        "        harga=int(11000*jumlahpesan)\n",
        "        ppn = int(harga * 0.1)\n",
        "        diskon=0\n",
        "        totalharga=int(harga+ppn)\n",
        "    elif pesan == \"d\":\n",
        "        listnama= \"ES Americano\"\n",
        "        harga=int(14000*jumlahpesan)\n",
        "        ppn = int(harga * 0.1)\n",
        "        diskon=0\n",
        "        totalharga = int(harga+ppn)\n",
        "    else:\n",
        "        listnama = \"-\"\n",
        "        harga = \"-\"\n",
        "        ppn = \"-\"\n",
        "        diskon = \"-\"\n",
        "        totalharga = \"-\"\n",
        "        pilihan=input(\"menu tidak tersedia, silahkan masukkan abjad menu yang tersedia silahkan ulangi kembali Y/N =\")\n",
        " \n",
        "    print(\"--------------------------\")\n",
        "    print(\"Ananda Coffe\")\n",
        "    print(\"--------------------------\")\n",
        "    print(\"Menu :\",listnama)\n",
        "    print(\"Jumlah Pesan :\", jumlahpesan)\n",
        "    print(\"Harga :\", harga)\n",
        "    print(\"Diskon :\", diskon)\n",
        "    print(\"PPN :\", ppn)\n",
        "    print(\"--------------------------\")\n",
        "    print(\"Jumlah Bayar :\", totalharga)\n",
        "    print(\"--------------------------\")\n",
        "    pilihan=input(\"apakah anda ingin order kembali Y/N =\")"
      ]
    }
  ],
  "metadata": {
    "colab": {
      "name": "Untitled0.ipynb",
      "provenance": []
    },
    "kernelspec": {
      "display_name": "Python 3",
      "name": "python3"
    },
    "language_info": {
      "name": "python"
    }
  },
  "nbformat": 4,
  "nbformat_minor": 0
}