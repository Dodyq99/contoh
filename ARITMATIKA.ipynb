{
  "nbformat": 4,
  "nbformat_minor": 0,
  "metadata": {
    "colab": {
      "name": "Untitled5.ipynb",
      "provenance": []
    },
    "kernelspec": {
      "name": "python3",
      "display_name": "Python 3"
    },
    "language_info": {
      "name": "python"
    }
  },
  "cells": [
    {
      "cell_type": "code",
      "execution_count": null,
      "metadata": {
        "id": "08u9Yr95NDyS"
      },
      "outputs": [],
      "source": [
        "alas = int(input(\"masukan alas segitiga =\"))\n",
        "tinggi = int(input(\"masuka tinggi segitiga =\"))\n",
        "seperdua=(1/2)\n",
        "luas=(seperdua*alas*tinggi)\n",
        "print(\"luas segitiga =\",luas, \"cm2\")"
      ]
    }
  ]
}